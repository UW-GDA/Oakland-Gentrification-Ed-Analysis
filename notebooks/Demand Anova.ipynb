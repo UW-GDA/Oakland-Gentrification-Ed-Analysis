{
 "cells": [
  {
   "cell_type": "markdown",
   "metadata": {},
   "source": [
    "ANOVA for School Demand"
   ]
  },
  {
   "cell_type": "code",
   "execution_count": 48,
   "metadata": {},
   "outputs": [],
   "source": [
    "import numpy as np\n",
    "import pandas as pd\n",
    "import scipy.stats as stats\n",
    "import matplotlib.pyplot as plt\n",
    "%matplotlib inline\n"
   ]
  },
  {
   "cell_type": "code",
   "execution_count": 49,
   "metadata": {},
   "outputs": [
    {
     "name": "stdout",
     "output_type": "stream",
     "text": [
      "Requirement already satisfied: xlrd==1.2.0 in /srv/conda/envs/notebook/lib/python3.8/site-packages (1.2.0)\n",
      "Note: you may need to restart the kernel to use updated packages.\n"
     ]
    }
   ],
   "source": [
    "pip install xlrd==1.2.0"
   ]
  },
  {
   "cell_type": "code",
   "execution_count": 50,
   "metadata": {},
   "outputs": [
    {
     "data": {
      "text/html": [
       "<div>\n",
       "<style scoped>\n",
       "    .dataframe tbody tr th:only-of-type {\n",
       "        vertical-align: middle;\n",
       "    }\n",
       "\n",
       "    .dataframe tbody tr th {\n",
       "        vertical-align: top;\n",
       "    }\n",
       "\n",
       "    .dataframe thead th {\n",
       "        text-align: right;\n",
       "    }\n",
       "</style>\n",
       "<table border=\"1\" class=\"dataframe\">\n",
       "  <thead>\n",
       "    <tr style=\"text-align: right;\">\n",
       "      <th></th>\n",
       "      <th>School</th>\n",
       "      <th>2016</th>\n",
       "      <th>2017</th>\n",
       "      <th>2018</th>\n",
       "      <th>2019</th>\n",
       "      <th>2020</th>\n",
       "    </tr>\n",
       "  </thead>\n",
       "  <tbody>\n",
       "    <tr>\n",
       "      <th>0</th>\n",
       "      <td>ACORN Woodland Elementa</td>\n",
       "      <td>0.769</td>\n",
       "      <td>0.709</td>\n",
       "      <td>1.132</td>\n",
       "      <td>0.980</td>\n",
       "      <td>1.021</td>\n",
       "    </tr>\n",
       "    <tr>\n",
       "      <th>1</th>\n",
       "      <td>Allendale Elementary</td>\n",
       "      <td>0.197</td>\n",
       "      <td>0.311</td>\n",
       "      <td>0.423</td>\n",
       "      <td>0.389</td>\n",
       "      <td>0.446</td>\n",
       "    </tr>\n",
       "    <tr>\n",
       "      <th>2</th>\n",
       "      <td>Alliance Academy</td>\n",
       "      <td>0.548</td>\n",
       "      <td>0.582</td>\n",
       "      <td>0.771</td>\n",
       "      <td>NaN</td>\n",
       "      <td>NaN</td>\n",
       "    </tr>\n",
       "    <tr>\n",
       "      <th>3</th>\n",
       "      <td>Bella Vista Elementary</td>\n",
       "      <td>0.318</td>\n",
       "      <td>0.241</td>\n",
       "      <td>0.385</td>\n",
       "      <td>0.376</td>\n",
       "      <td>0.635</td>\n",
       "    </tr>\n",
       "    <tr>\n",
       "      <th>4</th>\n",
       "      <td>Bret Harte Middle</td>\n",
       "      <td>0.581</td>\n",
       "      <td>0.444</td>\n",
       "      <td>0.521</td>\n",
       "      <td>0.442</td>\n",
       "      <td>0.469</td>\n",
       "    </tr>\n",
       "    <tr>\n",
       "      <th>...</th>\n",
       "      <td>...</td>\n",
       "      <td>...</td>\n",
       "      <td>...</td>\n",
       "      <td>...</td>\n",
       "      <td>...</td>\n",
       "      <td>...</td>\n",
       "    </tr>\n",
       "    <tr>\n",
       "      <th>75</th>\n",
       "      <td>Thornhill Elementary</td>\n",
       "      <td>1.118</td>\n",
       "      <td>1.242</td>\n",
       "      <td>1.229</td>\n",
       "      <td>1.196</td>\n",
       "      <td>1.333</td>\n",
       "    </tr>\n",
       "    <tr>\n",
       "      <th>76</th>\n",
       "      <td>United for Success Acad</td>\n",
       "      <td>0.477</td>\n",
       "      <td>0.388</td>\n",
       "      <td>0.391</td>\n",
       "      <td>0.626</td>\n",
       "      <td>0.545</td>\n",
       "    </tr>\n",
       "    <tr>\n",
       "      <th>77</th>\n",
       "      <td>Urban Promise Academy</td>\n",
       "      <td>0.929</td>\n",
       "      <td>0.800</td>\n",
       "      <td>1.040</td>\n",
       "      <td>1.246</td>\n",
       "      <td>0.928</td>\n",
       "    </tr>\n",
       "    <tr>\n",
       "      <th>78</th>\n",
       "      <td>West Oakland Middle</td>\n",
       "      <td>0.975</td>\n",
       "      <td>0.699</td>\n",
       "      <td>0.768</td>\n",
       "      <td>0.759</td>\n",
       "      <td>0.520</td>\n",
       "    </tr>\n",
       "    <tr>\n",
       "      <th>79</th>\n",
       "      <td>Westlake Middle Demand</td>\n",
       "      <td>0.734</td>\n",
       "      <td>0.568</td>\n",
       "      <td>0.671</td>\n",
       "      <td>0.526</td>\n",
       "      <td>0.490</td>\n",
       "    </tr>\n",
       "  </tbody>\n",
       "</table>\n",
       "<p>80 rows × 6 columns</p>\n",
       "</div>"
      ],
      "text/plain": [
       "                     School   2016   2017   2018   2019   2020\n",
       "0   ACORN Woodland Elementa  0.769  0.709  1.132  0.980  1.021\n",
       "1      Allendale Elementary  0.197  0.311  0.423  0.389  0.446\n",
       "2          Alliance Academy  0.548  0.582  0.771    NaN    NaN\n",
       "3    Bella Vista Elementary  0.318  0.241  0.385  0.376  0.635\n",
       "4         Bret Harte Middle  0.581  0.444  0.521  0.442  0.469\n",
       "..                      ...    ...    ...    ...    ...    ...\n",
       "75     Thornhill Elementary  1.118  1.242  1.229  1.196  1.333\n",
       "76  United for Success Acad  0.477  0.388  0.391  0.626  0.545\n",
       "77    Urban Promise Academy  0.929  0.800  1.040  1.246  0.928\n",
       "78      West Oakland Middle  0.975  0.699  0.768  0.759  0.520\n",
       "79   Westlake Middle Demand  0.734  0.568  0.671  0.526  0.490\n",
       "\n",
       "[80 rows x 6 columns]"
      ]
     },
     "execution_count": 50,
     "metadata": {},
     "output_type": "execute_result"
    }
   ],
   "source": [
    "# load data file (note that we are specifying a separator other than the default comma in read_csv, the symbol for \"tab\" is \"\\t\")\n",
    "df = pd.read_excel('Enrollment Rate.xlsx')\n",
    "df"
   ]
  },
  {
   "cell_type": "code",
   "execution_count": 51,
   "metadata": {},
   "outputs": [
    {
     "data": {
      "text/html": [
       "<div>\n",
       "<style scoped>\n",
       "    .dataframe tbody tr th:only-of-type {\n",
       "        vertical-align: middle;\n",
       "    }\n",
       "\n",
       "    .dataframe tbody tr th {\n",
       "        vertical-align: top;\n",
       "    }\n",
       "\n",
       "    .dataframe thead th {\n",
       "        text-align: right;\n",
       "    }\n",
       "</style>\n",
       "<table border=\"1\" class=\"dataframe\">\n",
       "  <thead>\n",
       "    <tr style=\"text-align: right;\">\n",
       "      <th></th>\n",
       "      <th>Year</th>\n",
       "      <th>Castlemont_High</th>\n",
       "      <th>Fremont_High</th>\n",
       "      <th>Oakland_High</th>\n",
       "      <th>Oakland_Technical_High</th>\n",
       "    </tr>\n",
       "  </thead>\n",
       "  <tbody>\n",
       "    <tr>\n",
       "      <th>0</th>\n",
       "      <td>2016</td>\n",
       "      <td>0.502</td>\n",
       "      <td>0.363</td>\n",
       "      <td>0.510</td>\n",
       "      <td>2.049</td>\n",
       "    </tr>\n",
       "    <tr>\n",
       "      <th>1</th>\n",
       "      <td>2017</td>\n",
       "      <td>0.433</td>\n",
       "      <td>0.229</td>\n",
       "      <td>0.673</td>\n",
       "      <td>2.026</td>\n",
       "    </tr>\n",
       "    <tr>\n",
       "      <th>2</th>\n",
       "      <td>2018</td>\n",
       "      <td>0.685</td>\n",
       "      <td>0.492</td>\n",
       "      <td>0.837</td>\n",
       "      <td>2.446</td>\n",
       "    </tr>\n",
       "    <tr>\n",
       "      <th>3</th>\n",
       "      <td>2019</td>\n",
       "      <td>0.397</td>\n",
       "      <td>0.504</td>\n",
       "      <td>0.806</td>\n",
       "      <td>2.303</td>\n",
       "    </tr>\n",
       "    <tr>\n",
       "      <th>4</th>\n",
       "      <td>2020</td>\n",
       "      <td>0.673</td>\n",
       "      <td>0.708</td>\n",
       "      <td>0.853</td>\n",
       "      <td>2.402</td>\n",
       "    </tr>\n",
       "  </tbody>\n",
       "</table>\n",
       "</div>"
      ],
      "text/plain": [
       "   Year  Castlemont_High  Fremont_High  Oakland_High  Oakland_Technical_High\n",
       "0  2016            0.502         0.363         0.510                   2.049\n",
       "1  2017            0.433         0.229         0.673                   2.026\n",
       "2  2018            0.685         0.492         0.837                   2.446\n",
       "3  2019            0.397         0.504         0.806                   2.303\n",
       "4  2020            0.673         0.708         0.853                   2.402"
      ]
     },
     "execution_count": 51,
     "metadata": {},
     "output_type": "execute_result"
    }
   ],
   "source": [
    "hsdf = pd.read_excel('Demand_School.xlsx')\n",
    "hsdf "
   ]
  },
  {
   "cell_type": "markdown",
   "metadata": {},
   "source": [
    "If we look at the dataframe we just loaded, we can see that we have one control group (no fertilizer) and three different fertilizer treatments."
   ]
  },
  {
   "cell_type": "markdown",
   "metadata": {},
   "source": [
    "We can make a boxplot to visualize our data and their distributions."
   ]
  },
  {
   "cell_type": "code",
   "execution_count": 52,
   "metadata": {},
   "outputs": [
    {
     "data": {
      "image/png": "[encoded data removed]",
      "text/plain": [
       "<Figure size 432x288 with 1 Axes>"
      ]
     },
     "metadata": {
      "needs_background": "light"
     },
     "output_type": "display_data"
    }
   ],
   "source": [
    "# Using boxplot, we can start to visually see differences between the treatment groups\n",
    "df.boxplot()\n",
    "\n",
    "# Add labels\n",
    "plt.xlabel('School Year')\n",
    "plt.ylabel('Enrollment Demand')\n",
    "plt.title('OUSD Enrollment Demand By Year');"
   ]
  },
  {
   "cell_type": "code",
   "execution_count": 39,
   "metadata": {},
   "outputs": [],
   "source": [
    "hsdf= hsdf.drop('Year', axis=1)"
   ]
  },
  {
   "cell_type": "code",
   "execution_count": 40,
   "metadata": {},
   "outputs": [
    {
     "data": {
      "image/png": "[encoded data removed]",
      "text/plain": [
       "<Figure size 432x288 with 1 Axes>"
      ]
     },
     "metadata": {
      "needs_background": "light"
     },
     "output_type": "display_data"
    }
   ],
   "source": [
    "hsdf.boxplot()\n",
    "\n",
    "# Add labels\n",
    "plt.xlabel('Site')\n",
    "plt.ylabel('Enrollment Demand')\n",
    "plt.title('OUSD Enrollment Demand By Site 2016-2020');"
   ]
  },
  {
   "cell_type": "markdown",
   "metadata": {},
   "source": [
    "**State our null and alternative hypothesis:**\n",
    "\n",
    "$H_0$: All groups have the same central mean\n",
    "\n",
    "$H_1$: The means are different from each other\n",
    "\n",
    "We want 95% confidence, so choose $\\alpha = 0.05$\n",
    "\n",
    "In this case, we perform a one-way (also called one-factor) ANOVA to determine whether our null hypothesis ($H_0$) is true or not. "
   ]
  },
  {
   "cell_type": "code",
   "execution_count": 41,
   "metadata": {},
   "outputs": [
    {
     "name": "stdout",
     "output_type": "stream",
     "text": [
      "F-statistic = 129.48\n",
      "p = 1.96794503576627e-11\n"
     ]
    }
   ],
   "source": [
    "# stats f_oneway functions takes the groups as input and returns an F and P-value\n",
    "fvalue, pvalue = stats.f_oneway(hsdf['Castlemont_High'], hsdf['Fremont_High'], hsdf['Oakland_High'], hsdf['Oakland_Technical_High'])\n",
    "\n",
    "# print the results\n",
    "print(\"F-statistic = {}\".format( np.round(fvalue,2)))\n",
    "print(\"p = {}\".format( pvalue ))"
   ]
  },
  {
   "cell_type": "code",
   "execution_count": null,
   "metadata": {},
   "outputs": [],
   "source": []
  },
  {
   "cell_type": "markdown",
   "metadata": {},
   "source": [
    "Our p-value is smaller than our chosen $\\alpha$, so in this case we can reject the null hypothesis."
   ]
  },
  {
   "cell_type": "markdown",
   "metadata": {},
   "source": [
    "\n",
    "\n",
    "\n"
   ]
  },
  {
   "cell_type": "markdown",
   "metadata": {},
   "source": []
  },
  {
   "cell_type": "code",
   "execution_count": 44,
   "metadata": {},
   "outputs": [],
   "source": [
    "import statsmodels.api as sm\n",
    "from statsmodels.formula.api import ols"
   ]
  },
  {
   "cell_type": "markdown",
   "metadata": {},
   "source": []
  },
  {
   "cell_type": "code",
   "execution_count": 45,
   "metadata": {},
   "outputs": [
    {
     "data": {
      "text/html": [
       "<div>\n",
       "<style scoped>\n",
       "    .dataframe tbody tr th:only-of-type {\n",
       "        vertical-align: middle;\n",
       "    }\n",
       "\n",
       "    .dataframe tbody tr th {\n",
       "        vertical-align: top;\n",
       "    }\n",
       "\n",
       "    .dataframe thead th {\n",
       "        text-align: right;\n",
       "    }\n",
       "</style>\n",
       "<table border=\"1\" class=\"dataframe\">\n",
       "  <thead>\n",
       "    <tr style=\"text-align: right;\">\n",
       "      <th></th>\n",
       "      <th>sum_sq</th>\n",
       "      <th>df</th>\n",
       "      <th>F</th>\n",
       "      <th>PR(&gt;F)</th>\n",
       "    </tr>\n",
       "  </thead>\n",
       "  <tbody>\n",
       "    <tr>\n",
       "      <th>C(schools)</th>\n",
       "      <td>10.630573</td>\n",
       "      <td>3.0</td>\n",
       "      <td>129.475613</td>\n",
       "      <td>1.967945e-11</td>\n",
       "    </tr>\n",
       "    <tr>\n",
       "      <th>Residual</th>\n",
       "      <td>0.437892</td>\n",
       "      <td>16.0</td>\n",
       "      <td>NaN</td>\n",
       "      <td>NaN</td>\n",
       "    </tr>\n",
       "  </tbody>\n",
       "</table>\n",
       "</div>"
      ],
      "text/plain": [
       "               sum_sq    df           F        PR(>F)\n",
       "C(schools)  10.630573   3.0  129.475613  1.967945e-11\n",
       "Residual     0.437892  16.0         NaN           NaN"
      ]
     },
     "execution_count": 45,
     "metadata": {},
     "output_type": "execute_result"
    }
   ],
   "source": [
    "# reshape the d dataframe suitable for statsmodels package \n",
    "df_reshaped = pd.melt(hsdf.reset_index(), id_vars=['index'], value_vars=['Castlemont_High', 'Fremont_High', 'Oakland_High', 'Oakland_Technical_High'])\n",
    "\n",
    "# replace column names\n",
    "df_reshaped.columns = ['index', 'schools', 'value']\n",
    "\n",
    "# Ordinary Least Squares (OLS) model\n",
    "model = ols('value ~ C(schools)', data=df_reshaped).fit()\n",
    "anova_table = sm.stats.anova_lm(model, typ=2)\n",
    "\n",
    "# display the results table\n",
    "anova_table"
   ]
  },
  {
   "cell_type": "markdown",
   "metadata": {},
   "source": []
  },
  {
   "cell_type": "code",
   "execution_count": 46,
   "metadata": {},
   "outputs": [],
   "source": [
    "from statsmodels.stats.multicomp import pairwise_tukeyhsd"
   ]
  },
  {
   "cell_type": "code",
   "execution_count": 47,
   "metadata": {},
   "outputs": [
    {
     "name": "stdout",
     "output_type": "stream",
     "text": [
      "            Multiple Comparison of Means - Tukey HSD, FWER=0.05             \n",
      "============================================================================\n",
      "     group1             group2         meandiff p-adj   lower  upper  reject\n",
      "----------------------------------------------------------------------------\n",
      "Castlemont_High           Fremont_High  -0.0788 0.8646 -0.3782 0.2206  False\n",
      "Castlemont_High           Oakland_High   0.1978 0.2708 -0.1016 0.4972  False\n",
      "Castlemont_High Oakland_Technical_High   1.7072  0.001  1.4078 2.0066   True\n",
      "   Fremont_High           Oakland_High   0.2766 0.0755 -0.0228  0.576  False\n",
      "   Fremont_High Oakland_Technical_High    1.786  0.001  1.4866 2.0854   True\n",
      "   Oakland_High Oakland_Technical_High   1.5094  0.001    1.21 1.8088   True\n",
      "----------------------------------------------------------------------------\n"
     ]
    }
   ],
   "source": [
    "# perform multiple pairwise comparison (Tukey HSD)\n",
    "m_comp = pairwise_tukeyhsd(endog=df_reshaped['value'], groups=df_reshaped['schools'], alpha=0.05)\n",
    "\n",
    "# display the results table\n",
    "print(m_comp)"
   ]
  },
  {
   "cell_type": "markdown",
   "metadata": {},
   "source": [
    "The \"reject\" column in this table shows us that all of the school site demand rates are different from the control (reject=True, we can reject the null hypothesis), and that treatments F2 and F3 are different from each (reject=True) other but not from F1 (reject=False).\n",
    "\n",
    " Note that the lower and upper ranges shown in the boxplot suggest a real difference if the 95% confidence range does not include 0.  (If it includes 0, then there's a chance that there's really no difference at all.)\n",
    "\n"
   ]
  },
  {
   "cell_type": "code",
   "execution_count": null,
   "metadata": {},
   "outputs": [],
   "source": []
  },
  {
   "cell_type": "code",
   "execution_count": null,
   "metadata": {},
   "outputs": [],
   "source": []
  }
 ],
 "metadata": {
  "kernelspec": {
   "display_name": "Python 3",
   "language": "python",
   "name": "python3"
  },
  "language_info": {
   "codemirror_mode": {
    "name": "ipython",
    "version": 3
   },
   "file_extension": ".py",
   "mimetype": "text/x-python",
   "name": "python",
   "nbconvert_exporter": "python",
   "pygments_lexer": "ipython3",
   "version": "3.8.6"
  }
 },
 "nbformat": 4,
 "nbformat_minor": 4
}
