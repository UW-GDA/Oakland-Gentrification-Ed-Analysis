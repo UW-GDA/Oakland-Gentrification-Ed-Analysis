{
 "cells": [
  {
   "cell_type": "markdown",
   "metadata": {},
   "source": [
    "Oakland School Demand"
   ]
  },
  {
   "cell_type": "code",
   "execution_count": 2,
   "metadata": {},
   "outputs": [],
   "source": [
    "import numpy as np\n",
    "import pandas as pd\n",
    "import scipy.stats as stats\n",
    "from scipy.linalg import lstsq # for the multiple linear regression, we'll use the scipy linear algebra least-squares function\n",
    "from scipy.interpolate import interp1d # for quantile regression, we'll want this 1d interpolation function\n",
    "import matplotlib.pyplot as plt\n",
    "%matplotlib inline"
   ]
  },
  {
   "cell_type": "code",
   "execution_count": 3,
   "metadata": {},
   "outputs": [
    {
     "name": "stdout",
     "output_type": "stream",
     "text": [
      "Requirement already satisfied: xlrd==1.2.0 in /srv/conda/envs/notebook/lib/python3.8/site-packages (1.2.0)\n",
      "Note: you may need to restart the kernel to use updated packages.\n"
     ]
    }
   ],
   "source": [
    "pip install xlrd==1.2.0"
   ]
  },
  {
   "cell_type": "code",
   "execution_count": 4,
   "metadata": {},
   "outputs": [
    {
     "data": {
      "text/html": [
       "<div>\n",
       "<style scoped>\n",
       "    .dataframe tbody tr th:only-of-type {\n",
       "        vertical-align: middle;\n",
       "    }\n",
       "\n",
       "    .dataframe tbody tr th {\n",
       "        vertical-align: top;\n",
       "    }\n",
       "\n",
       "    .dataframe thead th {\n",
       "        text-align: right;\n",
       "    }\n",
       "</style>\n",
       "<table border=\"1\" class=\"dataframe\">\n",
       "  <thead>\n",
       "    <tr style=\"text-align: right;\">\n",
       "      <th></th>\n",
       "      <th>School</th>\n",
       "      <th>2016</th>\n",
       "      <th>2017</th>\n",
       "      <th>2018</th>\n",
       "      <th>2019</th>\n",
       "      <th>2020</th>\n",
       "    </tr>\n",
       "  </thead>\n",
       "  <tbody>\n",
       "    <tr>\n",
       "      <th>0</th>\n",
       "      <td>Castlemont High Demand</td>\n",
       "      <td>0.502</td>\n",
       "      <td>0.433</td>\n",
       "      <td>0.685</td>\n",
       "      <td>0.397</td>\n",
       "      <td>0.673</td>\n",
       "    </tr>\n",
       "    <tr>\n",
       "      <th>1</th>\n",
       "      <td>Coliseum College Prep A</td>\n",
       "      <td>2.308</td>\n",
       "      <td>2.229</td>\n",
       "      <td>1.813</td>\n",
       "      <td>1.570</td>\n",
       "      <td>1.361</td>\n",
       "    </tr>\n",
       "    <tr>\n",
       "      <th>2</th>\n",
       "      <td>Fremont High    Demand</td>\n",
       "      <td>0.363</td>\n",
       "      <td>0.229</td>\n",
       "      <td>0.492</td>\n",
       "      <td>0.504</td>\n",
       "      <td>0.708</td>\n",
       "    </tr>\n",
       "    <tr>\n",
       "      <th>3</th>\n",
       "      <td>International Community</td>\n",
       "      <td>0.900</td>\n",
       "      <td>0.712</td>\n",
       "      <td>1.159</td>\n",
       "      <td>1.057</td>\n",
       "      <td>1.271</td>\n",
       "    </tr>\n",
       "    <tr>\n",
       "      <th>4</th>\n",
       "      <td>LIFE Academy    Demand</td>\n",
       "      <td>2.422</td>\n",
       "      <td>2.167</td>\n",
       "      <td>2.387</td>\n",
       "      <td>1.917</td>\n",
       "      <td>1.896</td>\n",
       "    </tr>\n",
       "    <tr>\n",
       "      <th>5</th>\n",
       "      <td>Madison Park Academy TK</td>\n",
       "      <td>0.411</td>\n",
       "      <td>0.148</td>\n",
       "      <td>0.300</td>\n",
       "      <td>0.283</td>\n",
       "      <td>0.446</td>\n",
       "    </tr>\n",
       "    <tr>\n",
       "      <th>6</th>\n",
       "      <td>Manzanita Community</td>\n",
       "      <td>0.365</td>\n",
       "      <td>0.264</td>\n",
       "      <td>0.333</td>\n",
       "      <td>0.338</td>\n",
       "      <td>0.427</td>\n",
       "    </tr>\n",
       "    <tr>\n",
       "      <th>7</th>\n",
       "      <td>McClymonds High Demand</td>\n",
       "      <td>0.238</td>\n",
       "      <td>0.184</td>\n",
       "      <td>0.229</td>\n",
       "      <td>0.452</td>\n",
       "      <td>0.362</td>\n",
       "    </tr>\n",
       "    <tr>\n",
       "      <th>8</th>\n",
       "      <td>MetWest High    Demand</td>\n",
       "      <td>5.400</td>\n",
       "      <td>3.476</td>\n",
       "      <td>4.700</td>\n",
       "      <td>1.964</td>\n",
       "      <td>2.160</td>\n",
       "    </tr>\n",
       "    <tr>\n",
       "      <th>9</th>\n",
       "      <td>Oakland High    Demand</td>\n",
       "      <td>0.510</td>\n",
       "      <td>0.673</td>\n",
       "      <td>0.837</td>\n",
       "      <td>0.806</td>\n",
       "      <td>0.853</td>\n",
       "    </tr>\n",
       "    <tr>\n",
       "      <th>10</th>\n",
       "      <td>Oakland International H</td>\n",
       "      <td>0.451</td>\n",
       "      <td>0.517</td>\n",
       "      <td>0.302</td>\n",
       "      <td>0.278</td>\n",
       "      <td>0.571</td>\n",
       "    </tr>\n",
       "    <tr>\n",
       "      <th>11</th>\n",
       "      <td>Oakland Technical High</td>\n",
       "      <td>2.049</td>\n",
       "      <td>2.026</td>\n",
       "      <td>2.446</td>\n",
       "      <td>2.303</td>\n",
       "      <td>2.402</td>\n",
       "    </tr>\n",
       "    <tr>\n",
       "      <th>12</th>\n",
       "      <td>Skyline High    Demand</td>\n",
       "      <td>0.542</td>\n",
       "      <td>0.638</td>\n",
       "      <td>0.618</td>\n",
       "      <td>0.646</td>\n",
       "      <td>0.636</td>\n",
       "    </tr>\n",
       "  </tbody>\n",
       "</table>\n",
       "</div>"
      ],
      "text/plain": [
       "                     School   2016   2017   2018   2019   2020\n",
       "0    Castlemont High Demand  0.502  0.433  0.685  0.397  0.673\n",
       "1   Coliseum College Prep A  2.308  2.229  1.813  1.570  1.361\n",
       "2    Fremont High    Demand  0.363  0.229  0.492  0.504  0.708\n",
       "3   International Community  0.900  0.712  1.159  1.057  1.271\n",
       "4    LIFE Academy    Demand  2.422  2.167  2.387  1.917  1.896\n",
       "5   Madison Park Academy TK  0.411  0.148  0.300  0.283  0.446\n",
       "6       Manzanita Community  0.365  0.264  0.333  0.338  0.427\n",
       "7    McClymonds High Demand  0.238  0.184  0.229  0.452  0.362\n",
       "8    MetWest High    Demand  5.400  3.476  4.700  1.964  2.160\n",
       "9    Oakland High    Demand  0.510  0.673  0.837  0.806  0.853\n",
       "10  Oakland International H  0.451  0.517  0.302  0.278  0.571\n",
       "11   Oakland Technical High  2.049  2.026  2.446  2.303  2.402\n",
       "12   Skyline High    Demand  0.542  0.638  0.618  0.646  0.636"
      ]
     },
     "execution_count": 4,
     "metadata": {},
     "output_type": "execute_result"
    }
   ],
   "source": [
    "demand = pd.read_excel('HS_Enrollment.xlsx')\n",
    "\n",
    "demand"
   ]
  },
  {
   "cell_type": "code",
   "execution_count": 5,
   "metadata": {},
   "outputs": [
    {
     "data": {
      "text/plain": [
       "<AxesSubplot:>"
      ]
     },
     "execution_count": 5,
     "metadata": {},
     "output_type": "execute_result"
    },
    {
     "data": {
      "image/png": "[encoded data removed]",
      "text/plain": [
       "<Figure size 432x288 with 1 Axes>"
      ]
     },
     "metadata": {
      "needs_background": "light"
     },
     "output_type": "display_data"
    }
   ],
   "source": [
    "demand.plot.bar()"
   ]
  },
  {
   "cell_type": "code",
   "execution_count": null,
   "metadata": {},
   "outputs": [],
   "source": []
  },
  {
   "cell_type": "code",
   "execution_count": 6,
   "metadata": {},
   "outputs": [
    {
     "data": {
      "text/html": [
       "<div>\n",
       "<style scoped>\n",
       "    .dataframe tbody tr th:only-of-type {\n",
       "        vertical-align: middle;\n",
       "    }\n",
       "\n",
       "    .dataframe tbody tr th {\n",
       "        vertical-align: top;\n",
       "    }\n",
       "\n",
       "    .dataframe thead th {\n",
       "        text-align: right;\n",
       "    }\n",
       "</style>\n",
       "<table border=\"1\" class=\"dataframe\">\n",
       "  <thead>\n",
       "    <tr style=\"text-align: right;\">\n",
       "      <th></th>\n",
       "      <th>Question_ID</th>\n",
       "      <th>Year</th>\n",
       "      <th>School</th>\n",
       "      <th>Response</th>\n",
       "      <th>Percent_Total</th>\n",
       "      <th>Respondents</th>\n",
       "      <th>Demand</th>\n",
       "    </tr>\n",
       "  </thead>\n",
       "  <tbody>\n",
       "    <tr>\n",
       "      <th>0</th>\n",
       "      <td>142</td>\n",
       "      <td>2015</td>\n",
       "      <td>Castlemont High School</td>\n",
       "      <td>4</td>\n",
       "      <td>0.309524</td>\n",
       "      <td>13</td>\n",
       "      <td>0.502</td>\n",
       "    </tr>\n",
       "    <tr>\n",
       "      <th>1</th>\n",
       "      <td>142</td>\n",
       "      <td>2015</td>\n",
       "      <td>Castlemont High School</td>\n",
       "      <td>3</td>\n",
       "      <td>0.428571</td>\n",
       "      <td>18</td>\n",
       "      <td>0.502</td>\n",
       "    </tr>\n",
       "    <tr>\n",
       "      <th>2</th>\n",
       "      <td>142</td>\n",
       "      <td>2015</td>\n",
       "      <td>Castlemont High School</td>\n",
       "      <td>2</td>\n",
       "      <td>0.190476</td>\n",
       "      <td>8</td>\n",
       "      <td>0.502</td>\n",
       "    </tr>\n",
       "    <tr>\n",
       "      <th>3</th>\n",
       "      <td>142</td>\n",
       "      <td>2015</td>\n",
       "      <td>Castlemont High School</td>\n",
       "      <td>1</td>\n",
       "      <td>0.023810</td>\n",
       "      <td>1</td>\n",
       "      <td>0.502</td>\n",
       "    </tr>\n",
       "    <tr>\n",
       "      <th>4</th>\n",
       "      <td>142</td>\n",
       "      <td>2015</td>\n",
       "      <td>Castlemont High School</td>\n",
       "      <td>0</td>\n",
       "      <td>0.047619</td>\n",
       "      <td>2</td>\n",
       "      <td>0.502</td>\n",
       "    </tr>\n",
       "    <tr>\n",
       "      <th>...</th>\n",
       "      <td>...</td>\n",
       "      <td>...</td>\n",
       "      <td>...</td>\n",
       "      <td>...</td>\n",
       "      <td>...</td>\n",
       "      <td>...</td>\n",
       "      <td>...</td>\n",
       "    </tr>\n",
       "    <tr>\n",
       "      <th>355</th>\n",
       "      <td>12</td>\n",
       "      <td>2019</td>\n",
       "      <td>Oakland Technical High School</td>\n",
       "      <td>3</td>\n",
       "      <td>0.385217</td>\n",
       "      <td>443</td>\n",
       "      <td>2.402</td>\n",
       "    </tr>\n",
       "    <tr>\n",
       "      <th>356</th>\n",
       "      <td>12</td>\n",
       "      <td>2019</td>\n",
       "      <td>Oakland Technical High School</td>\n",
       "      <td>2</td>\n",
       "      <td>0.276522</td>\n",
       "      <td>318</td>\n",
       "      <td>2.402</td>\n",
       "    </tr>\n",
       "    <tr>\n",
       "      <th>357</th>\n",
       "      <td>12</td>\n",
       "      <td>2019</td>\n",
       "      <td>Oakland Technical High School</td>\n",
       "      <td>1</td>\n",
       "      <td>0.078261</td>\n",
       "      <td>90</td>\n",
       "      <td>2.402</td>\n",
       "    </tr>\n",
       "    <tr>\n",
       "      <th>358</th>\n",
       "      <td>12</td>\n",
       "      <td>2019</td>\n",
       "      <td>Oakland Technical High School</td>\n",
       "      <td>0</td>\n",
       "      <td>0.073043</td>\n",
       "      <td>84</td>\n",
       "      <td>2.402</td>\n",
       "    </tr>\n",
       "    <tr>\n",
       "      <th>359</th>\n",
       "      <td>12</td>\n",
       "      <td>2019</td>\n",
       "      <td>Oakland Technical High School</td>\n",
       "      <td>0</td>\n",
       "      <td>0.078261</td>\n",
       "      <td>90</td>\n",
       "      <td>2.402</td>\n",
       "    </tr>\n",
       "  </tbody>\n",
       "</table>\n",
       "<p>360 rows × 7 columns</p>\n",
       "</div>"
      ],
      "text/plain": [
       "     Question_ID  Year                         School  Response  \\\n",
       "0            142  2015         Castlemont High School         4   \n",
       "1            142  2015         Castlemont High School         3   \n",
       "2            142  2015         Castlemont High School         2   \n",
       "3            142  2015         Castlemont High School         1   \n",
       "4            142  2015         Castlemont High School         0   \n",
       "..           ...   ...                            ...       ...   \n",
       "355           12  2019  Oakland Technical High School         3   \n",
       "356           12  2019  Oakland Technical High School         2   \n",
       "357           12  2019  Oakland Technical High School         1   \n",
       "358           12  2019  Oakland Technical High School         0   \n",
       "359           12  2019  Oakland Technical High School         0   \n",
       "\n",
       "     Percent_Total  Respondents  Demand  \n",
       "0         0.309524           13   0.502  \n",
       "1         0.428571           18   0.502  \n",
       "2         0.190476            8   0.502  \n",
       "3         0.023810            1   0.502  \n",
       "4         0.047619            2   0.502  \n",
       "..             ...          ...     ...  \n",
       "355       0.385217          443   2.402  \n",
       "356       0.276522          318   2.402  \n",
       "357       0.078261           90   2.402  \n",
       "358       0.073043           84   2.402  \n",
       "359       0.078261           90   2.402  \n",
       "\n",
       "[360 rows x 7 columns]"
      ]
     },
     "execution_count": 6,
     "metadata": {},
     "output_type": "execute_result"
    }
   ],
   "source": [
    "CKHS= pd.read_excel('CHKS_STUDYAREA.xlsx')\n",
    "\n",
    "CKHS"
   ]
  },
  {
   "cell_type": "code",
   "execution_count": 7,
   "metadata": {},
   "outputs": [],
   "source": [
    "xd=CKHS.iloc[2:91]['Year']\n",
    "yd=CKHS.iloc[2:91]['Demand']"
   ]
  },
  {
   "cell_type": "code",
   "execution_count": 8,
   "metadata": {},
   "outputs": [],
   "source": [
    "castlemont=CKHS.iloc[2:91]"
   ]
  },
  {
   "cell_type": "code",
   "execution_count": 9,
   "metadata": {},
   "outputs": [
    {
     "data": {
      "image/png": "[encoded data removed]",
      "text/plain": [
       "<Figure size 288x288 with 1 Axes>"
      ]
     },
     "metadata": {
      "needs_background": "light"
     },
     "output_type": "display_data"
    }
   ],
   "source": [
    "fig, ax = plt.subplots(figsize=(4,4))\n",
    "\n",
    "plt.scatter(xd, yd, s=30, alpha=0.15, marker='o')\n",
    "\n",
    "par = np.polyfit(xd, yd, 1, full=True)\n",
    "\n",
    "slope=par[0][0]\n",
    "intercept=par[0][1]\n",
    "xl = [min(xd), max(xd)]\n",
    "yl = [slope*xx + intercept  for xx in xl]\n",
    "\n",
    "# coefficient of determination, plot text\n",
    "variance = np.var(yd)\n",
    "residuals = np.var([(slope*xx + intercept - yy)  for xx,yy in zip(xd,yd)])\n",
    "Rsqr = np.round(1-residuals/variance, decimals=2)\n",
    "plt.text(.9*max(xd)+.1*min(xd),.9*max(yd)+.1*min(yd),'$R^2 = %0.2f$'% Rsqr, fontsize=15)\n",
    "\n",
    "\n",
    "\n",
    "ax.set_title('Castlemont Demand Rate vs. Time')\n",
    "ax.set_xlabel('Academic Year')\n",
    "ax.set_ylabel('Grad Rate');\n",
    "\n",
    "# error bounds\n",
    "yerr = [abs(slope*xx + intercept - yy)  for xx,yy in zip(xd,yd)]\n",
    "par = np.polyfit(xd, yerr, 2, full=True)\n",
    "\n",
    "yerrUpper = [(xx*slope+intercept)+(par[0][0]*xx**2 + par[0][1]*xx + par[0][2]) for xx,yy in zip(xd,yd)]\n",
    "yerrLower = [(xx*slope+intercept)-(par[0][0]*xx**2 + par[0][1]*xx + par[0][2]) for xx,yy in zip(xd,yd)]\n",
    "\n",
    "plt.plot(xl, yl, '-r')\n",
    "plt.plot(xd, yerrLower, '--r')\n",
    "plt.plot(xd, yerrUpper, '--r')\n",
    "plt.show()\n"
   ]
  },
  {
   "cell_type": "code",
   "execution_count": 10,
   "metadata": {},
   "outputs": [
    {
     "data": {
      "image/png": "[encoded data removed]",
      "text/plain": [
       "<Figure size 288x288 with 1 Axes>"
      ]
     },
     "metadata": {
      "needs_background": "light"
     },
     "output_type": "display_data"
    }
   ],
   "source": [
    "xd=CKHS.iloc[92:181]['Year']\n",
    "yd=CKHS.iloc[92:181]['Demand']\n",
    "\n",
    "fig, ax = plt.subplots(figsize=(4,4))\n",
    "\n",
    "plt.scatter(xd, yd, s=30, alpha=0.15, marker='o')\n",
    "\n",
    "par = np.polyfit(xd, yd, 1, full=True)\n",
    "\n",
    "slope=par[0][0]\n",
    "intercept=par[0][1]\n",
    "xl = [min(xd), max(xd)]\n",
    "yl = [slope*xx + intercept  for xx in xl]\n",
    "\n",
    "# coefficient of determination, plot text\n",
    "variance = np.var(yd)\n",
    "residuals = np.var([(slope*xx + intercept - yy)  for xx,yy in zip(xd,yd)])\n",
    "Rsqr = np.round(1-residuals/variance, decimals=2)\n",
    "plt.text(.9*max(xd)+.1*min(xd),.9*max(yd)+.1*min(yd),'$R^2 = %0.2f$'% Rsqr, fontsize=15)\n",
    "\n",
    "\n",
    "\n",
    "ax.set_title('Fremont Demand Rate vs. Time')\n",
    "ax.set_xlabel('Academic Year')\n",
    "ax.set_ylabel('Grad Rate');\n",
    "\n",
    "# error bounds\n",
    "yerr = [abs(slope*xx + intercept - yy)  for xx,yy in zip(xd,yd)]\n",
    "par = np.polyfit(xd, yerr, 2, full=True)\n",
    "\n",
    "yerrUpper = [(xx*slope+intercept)+(par[0][0]*xx**2 + par[0][1]*xx + par[0][2]) for xx,yy in zip(xd,yd)]\n",
    "yerrLower = [(xx*slope+intercept)-(par[0][0]*xx**2 + par[0][1]*xx + par[0][2]) for xx,yy in zip(xd,yd)]\n",
    "\n",
    "plt.plot(xl, yl, '-r')\n",
    "plt.plot(xd, yerrLower, '--r')\n",
    "plt.plot(xd, yerrUpper, '--r')\n",
    "plt.show()\n"
   ]
  },
  {
   "cell_type": "code",
   "execution_count": 11,
   "metadata": {},
   "outputs": [
    {
     "data": {
      "image/png": "[encoded data removed]",
      "text/plain": [
       "<Figure size 288x288 with 1 Axes>"
      ]
     },
     "metadata": {
      "needs_background": "light"
     },
     "output_type": "display_data"
    }
   ],
   "source": [
    "xd=CKHS.iloc[182:271]['Year']\n",
    "yd=CKHS.iloc[182:271]['Demand']\n",
    "\n",
    "fig, ax = plt.subplots(figsize=(4,4))\n",
    "\n",
    "plt.scatter(xd, yd, s=30, alpha=0.15, marker='o')\n",
    "\n",
    "par = np.polyfit(xd, yd, 1, full=True)\n",
    "\n",
    "slope=par[0][0]\n",
    "intercept=par[0][1]\n",
    "xl = [min(xd), max(xd)]\n",
    "yl = [slope*xx + intercept  for xx in xl]\n",
    "\n",
    "# coefficient of determination, plot text\n",
    "variance = np.var(yd)\n",
    "residuals = np.var([(slope*xx + intercept - yy)  for xx,yy in zip(xd,yd)])\n",
    "Rsqr = np.round(1-residuals/variance, decimals=2)\n",
    "plt.text(.9*max(xd)+.1*min(xd),.9*max(yd)+.1*min(yd),'$R^2 = %0.2f$'% Rsqr, fontsize=15)\n",
    "\n",
    "\n",
    "\n",
    "ax.set_title('O-High Demand Rate vs. Time')\n",
    "ax.set_xlabel('Academic Year')\n",
    "ax.set_ylabel('Grad Rate');\n",
    "\n",
    "# error bounds\n",
    "yerr = [abs(slope*xx + intercept - yy)  for xx,yy in zip(xd,yd)]\n",
    "par = np.polyfit(xd, yerr, 2, full=True)\n",
    "\n",
    "yerrUpper = [(xx*slope+intercept)+(par[0][0]*xx**2 + par[0][1]*xx + par[0][2]) for xx,yy in zip(xd,yd)]\n",
    "yerrLower = [(xx*slope+intercept)-(par[0][0]*xx**2 + par[0][1]*xx + par[0][2]) for xx,yy in zip(xd,yd)]\n",
    "\n",
    "plt.plot(xl, yl, '-r')\n",
    "plt.plot(xd, yerrLower, '--r')\n",
    "plt.plot(xd, yerrUpper, '--r')\n",
    "plt.show()\n"
   ]
  },
  {
   "cell_type": "code",
   "execution_count": 12,
   "metadata": {},
   "outputs": [
    {
     "data": {
      "image/png": "[encoded data removed]",
      "text/plain": [
       "<Figure size 288x288 with 1 Axes>"
      ]
     },
     "metadata": {
      "needs_background": "light"
     },
     "output_type": "display_data"
    }
   ],
   "source": [
    "xd=CKHS.iloc[272:361]['Year']\n",
    "yd=CKHS.iloc[272:361]['Demand']\n",
    "\n",
    "fig, ax = plt.subplots(figsize=(4,4))\n",
    "\n",
    "plt.scatter(xd, yd, s=30, alpha=0.15, marker='o')\n",
    "\n",
    "par = np.polyfit(xd, yd, 1, full=True)\n",
    "\n",
    "slope=par[0][0]\n",
    "intercept=par[0][1]\n",
    "xl = [min(xd), max(xd)]\n",
    "yl = [slope*xx + intercept  for xx in xl]\n",
    "\n",
    "# coefficient of determination, plot text\n",
    "variance = np.var(yd)\n",
    "residuals = np.var([(slope*xx + intercept - yy)  for xx,yy in zip(xd,yd)])\n",
    "Rsqr = np.round(1-residuals/variance, decimals=2)\n",
    "plt.text(.9*max(xd)+.1*min(xd),.9*max(yd)+.1*min(yd),'$R^2 = %0.2f$'% Rsqr, fontsize=15)\n",
    "\n",
    "\n",
    "\n",
    "ax.set_title('Tech Demand Rate vs. Time')\n",
    "ax.set_xlabel('Academic Year')\n",
    "ax.set_ylabel('Grad Rate');\n",
    "\n",
    "# error bounds\n",
    "yerr = [abs(slope*xx + intercept - yy)  for xx,yy in zip(xd,yd)]\n",
    "par = np.polyfit(xd, yerr, 2, full=True)\n",
    "\n",
    "yerrUpper = [(xx*slope+intercept)+(par[0][0]*xx**2 + par[0][1]*xx + par[0][2]) for xx,yy in zip(xd,yd)]\n",
    "yerrLower = [(xx*slope+intercept)-(par[0][0]*xx**2 + par[0][1]*xx + par[0][2]) for xx,yy in zip(xd,yd)]\n",
    "\n",
    "plt.plot(xl, yl, '-r')\n",
    "plt.plot(xd, yerrLower, '--r')\n",
    "plt.plot(xd, yerrUpper, '--r')\n",
    "plt.show()\n"
   ]
  },
  {
   "cell_type": "code",
   "execution_count": 13,
   "metadata": {},
   "outputs": [],
   "source": [
    "xd=CKHS.iloc[2:361]['Year']\n",
    "yd=CKHS.iloc[2:361]['Demand']"
   ]
  },
  {
   "cell_type": "code",
   "execution_count": 14,
   "metadata": {},
   "outputs": [
    {
     "data": {
      "image/png": "[encoded data removed]",
      "text/plain": [
       "<Figure size 576x576 with 1 Axes>"
      ]
     },
     "metadata": {
      "needs_background": "light"
     },
     "output_type": "display_data"
    }
   ],
   "source": [
    "\n",
    "fig, ax = plt.subplots(figsize=(8,8))\n",
    "\n",
    "plt.scatter(xd, yd, s=30, alpha=0.15, marker='o')\n",
    "\n",
    "par = np.polyfit(xd, yd, 1, full=True)\n",
    "\n",
    "slope=par[0][0]\n",
    "intercept=par[0][1]\n",
    "xl = [min(xd), max(xd)]\n",
    "yl = [slope*xx + intercept  for xx in xl]\n",
    "\n",
    "# coefficient of determination, plot text\n",
    "variance = np.var(yd)\n",
    "residuals = np.var([(slope*xx + intercept - yy)  for xx,yy in zip(xd,yd)])\n",
    "Rsqr = np.round(1-residuals/variance, decimals=2)\n",
    "plt.text(.9*max(xd)+.1*min(xd),.9*max(yd)+.1*min(yd),'$R^2 = %0.2f$'% Rsqr, fontsize=30)\n",
    "\n",
    "\n",
    "\n",
    "ax.set_title('OUSD Demand Rate vs. Time')\n",
    "ax.set_xlabel('Academic Year')\n",
    "ax.set_ylabel('Grad Rate');\n",
    "\n",
    "# error bounds\n",
    "yerr = [abs(slope*xx + intercept - yy)  for xx,yy in zip(xd,yd)]\n",
    "par = np.polyfit(xd, yerr, 2, full=True)\n",
    "\n",
    "yerrUpper = [(xx*slope+intercept)+(par[0][0]*xx**2 + par[0][1]*xx + par[0][2]) for xx,yy in zip(xd,yd)]\n",
    "yerrLower = [(xx*slope+intercept)-(par[0][0]*xx**2 + par[0][1]*xx + par[0][2]) for xx,yy in zip(xd,yd)]\n",
    "\n",
    "plt.plot(xl, yl, '-r')\n",
    "plt.plot(xd, yerrLower, '--r')\n",
    "plt.plot(xd, yerrUpper, '--r')\n",
    "plt.show()\n"
   ]
  },
  {
   "cell_type": "code",
   "execution_count": null,
   "metadata": {},
   "outputs": [],
   "source": []
  },
  {
   "cell_type": "code",
   "execution_count": null,
   "metadata": {},
   "outputs": [],
   "source": []
  },
  {
   "cell_type": "code",
   "execution_count": null,
   "metadata": {},
   "outputs": [],
   "source": []
  },
  {
   "cell_type": "code",
   "execution_count": null,
   "metadata": {},
   "outputs": [],
   "source": []
  }
 ],
 "metadata": {
  "kernelspec": {
   "display_name": "Python 3",
   "language": "python",
   "name": "python3"
  },
  "language_info": {
   "codemirror_mode": {
    "name": "ipython",
    "version": 3
   },
   "file_extension": ".py",
   "mimetype": "text/x-python",
   "name": "python",
   "nbconvert_exporter": "python",
   "pygments_lexer": "ipython3",
   "version": "3.8.6"
  }
 },
 "nbformat": 4,
 "nbformat_minor": 4
}
